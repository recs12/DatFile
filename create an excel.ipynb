{
 "cells": [
  {
   "cell_type": "code",
   "execution_count": 128,
   "metadata": {},
   "outputs": [],
   "source": [
    "import pandas as pd\n",
    "import numpy as np"
   ]
  },
  {
   "cell_type": "code",
   "execution_count": 129,
   "metadata": {},
   "outputs": [],
   "source": [
    "widths = [\n",
    "    7, #loc\n",
    "    6, #type\n",
    "    5, #no\n",
    "    10, #status\n",
    "    3, #ind\n",
    "    5, #stock_type\n",
    "    24, #stock_ident_no\n",
    "    5, #sheet\n",
    "    5, #quantity\n",
    "    6, #r\n",
    "]"
   ]
  },
  {
   "cell_type": "code",
   "execution_count": 130,
   "metadata": {},
   "outputs": [],
   "source": [
    "columns = [\n",
    "    \"loc\",\n",
    "    \"type\",\n",
    "    \"no\",\n",
    "    \"status\",\n",
    "    \"ind\",\n",
    "    \"stock_type\",\n",
    "    \"stock_ident_no\",\n",
    "    \"sheet\",\n",
    "    \"quantity\",\n",
    "    \"r\",\n",
    "]"
   ]
  },
  {
   "cell_type": "code",
   "execution_count": 131,
   "metadata": {},
   "outputs": [],
   "source": [
    "bestand = pd.read_fwf(\"BESTAND.DAT\", widths=widths, colspecs='infer')"
   ]
  },
  {
   "cell_type": "code",
   "execution_count": 132,
   "metadata": {},
   "outputs": [],
   "source": [
    "result = bestand.iloc[9:]"
   ]
  },
  {
   "cell_type": "code",
   "execution_count": 133,
   "metadata": {},
   "outputs": [],
   "source": [
    "result.columns = columns"
   ]
  },
  {
   "cell_type": "code",
   "execution_count": 134,
   "metadata": {},
   "outputs": [
    {
     "name": "stderr",
     "output_type": "stream",
     "text": [
      "/home/slimane/snap/jupyter/common/lib/python3.7/site-packages/pandas/core/indexing.py:723: SettingWithCopyWarning: \n",
      "A value is trying to be set on a copy of a slice from a DataFrame\n",
      "\n",
      "See the caveats in the documentation: https://pandas.pydata.org/pandas-docs/stable/user_guide/indexing.html#returning-a-view-versus-a-copy\n",
      "  iloc._setitem_with_indexer(indexer, value, self.name)\n"
     ]
    }
   ],
   "source": [
    "numerical = result.quantity.astype(float).copy(deep=True)\n",
    "result.loc[\"quantity\"] = numerical"
   ]
  },
  {
   "cell_type": "code",
   "execution_count": 135,
   "metadata": {},
   "outputs": [],
   "source": [
    "result = (\n",
    "    result\n",
    "        [[\"stock_ident_no\",\"quantity\"]]\n",
    "        .groupby(['stock_ident_no'])['quantity'].agg(sum)\n",
    ")"
   ]
  },
  {
   "cell_type": "code",
   "execution_count": 136,
   "metadata": {},
   "outputs": [
    {
     "data": {
      "text/plain": [
       "stock_ident_no\n",
       "SS 304 2B 0.187 5X10             5.0\n",
       "SS_304_0.187_no4_5X10           12.0\n",
       "SS_304_0.250_5X10                1.0\n",
       "SS_304_0.250_no4_5X10            9.0\n",
       "SS_304_0.375_5X10                2.0\n",
       "SS_304_0.500_4X10                1.0\n",
       "SS_304_0.500_5X10                2.0\n",
       "SS_304_11G_5X10                 10.0\n",
       "SS_304_11g _no4_5x10            10.0\n",
       "SS_304_14G_5X10                  3.0\n",
       "SS_304_16G_5X10                  4.0\n",
       "SS_304_16G_no4_5x10              2.0\n",
       "SS_316_16G_4X8                   1.0\n",
       "STEEL_44W_0.187_5X10        13.017.0\n",
       "STEEL_44W_0.250_5X10     13.012.05.0\n",
       "STEEL_44W_0.375_5X10             3.0\n",
       "STEEL_44W_0.500_5X10             1.0\n",
       "STEEL_44W_0.625_5X10             3.0\n",
       "STEEL_44W_0.750_5X10             1.0\n",
       "STEEL_44W_1.000_4X8              3.0\n",
       "STEEL_44W_1.000_5X10             2.0\n",
       "STEEL_COM_10G_5X10               6.0\n",
       "STEEL_COM_11G_5X10          17.025.0\n",
       "STEEL_COM_14G_5X10              10.0\n",
       "STEEL_COM_16G_5X10              10.0\n",
       "STEEL_FLR_0.187_5X10             8.0\n",
       "STEEL_GALV_11G_4X10              4.0\n",
       "Name: quantity, dtype: object"
      ]
     },
     "execution_count": 136,
     "metadata": {},
     "output_type": "execute_result"
    }
   ],
   "source": [
    "result"
   ]
  },
  {
   "cell_type": "code",
   "execution_count": 137,
   "metadata": {},
   "outputs": [],
   "source": [
    "#safety_stocks = []"
   ]
  },
  {
   "cell_type": "code",
   "execution_count": 138,
   "metadata": {},
   "outputs": [],
   "source": [
    "#add columns of safty stocks"
   ]
  },
  {
   "cell_type": "code",
   "execution_count": 139,
   "metadata": {},
   "outputs": [],
   "source": [
    "#substract values: safty stocks - quantity"
   ]
  },
  {
   "cell_type": "code",
   "execution_count": 144,
   "metadata": {},
   "outputs": [],
   "source": [
    "#add styles"
   ]
  },
  {
   "cell_type": "code",
   "execution_count": null,
   "metadata": {},
   "outputs": [],
   "source": [
    "#fix bug SettingWithCopyWarning"
   ]
  },
  {
   "cell_type": "code",
   "execution_count": 141,
   "metadata": {},
   "outputs": [],
   "source": [
    "#generate an excel file."
   ]
  },
  {
   "cell_type": "code",
   "execution_count": 142,
   "metadata": {},
   "outputs": [],
   "source": [
    "#generate an .exe"
   ]
  }
 ],
 "metadata": {
  "kernelspec": {
   "display_name": "Python 3",
   "language": "python",
   "name": "python3"
  },
  "language_info": {
   "codemirror_mode": {
    "name": "ipython",
    "version": 3
   },
   "file_extension": ".py",
   "mimetype": "text/x-python",
   "name": "python",
   "nbconvert_exporter": "python",
   "pygments_lexer": "ipython3",
   "version": "3.7.3"
  }
 },
 "nbformat": 4,
 "nbformat_minor": 2
}
