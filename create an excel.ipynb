{
 "cells": [
  {
   "cell_type": "code",
   "execution_count": 1,
   "metadata": {},
   "outputs": [],
   "source": [
    "import pandas as pd\n",
    "import numpy as np\n",
    "from datetime import datetime\n",
    "import os\n",
    "import pathlib\n",
    "\n",
    "import warnings\n",
    "\n",
    "from pandas.core.common import SettingWithCopyWarning\n",
    "warnings.simplefilter(action=\"ignore\", category=SettingWithCopyWarning)"
   ]
  },
  {
   "cell_type": "code",
   "execution_count": 2,
   "metadata": {},
   "outputs": [],
   "source": [
    "# widths are the spaces for each columns in the DAT file.\n",
    "widths = [\n",
    "    7, #loc\n",
    "    6, #type\n",
    "    5, #palette\n",
    "    10, #status\n",
    "    3, #ind\n",
    "    5, #stock_type\n",
    "    24, #identifier\n",
    "    5, #sheet\n",
    "    5, #quantity\n",
    "    6, #r\n",
    "]"
   ]
  },
  {
   "cell_type": "code",
   "execution_count": 3,
   "metadata": {},
   "outputs": [],
   "source": [
    "skiprows = [0,1,2,3,4,5,6,7,8,9,10]\n",
    "columns_names = [\"loc\", \"type\", \"palette\", \"status\", \"ind\", \"stock_type\", \"identifier\", \"sheet\", \"quantity\", \"r\"]"
   ]
  },
  {
   "cell_type": "code",
   "execution_count": 4,
   "metadata": {},
   "outputs": [],
   "source": [
    "data = {\n",
    "    \"steel_com_16g_4x8\":{\"safety\":0, \"dimensions\":\"4' X 8'\", \"no_item\": \"11100409\", \"description1\": \"STEEL 0.060\\\"\", \"description2\":\"[16G]\", }, #STEEL_COM_16G_4X8\n",
    "    \"steel_com_16g_5x10\":{\"safety\":15, \"dimensions\":\"5' X 10'\", \"no_item\": \"11100409\", \"description1\": \"STEEL 0.060\\\"\", \"description2\":\"[16G]\", },\n",
    "    \"steel_com_14g_5x10\":{\"safety\":10, \"dimensions\":\"5' X 10'\", \"no_item\": \"11100356\", \"description1\": \"STEEL 0.075\\\"\", \"description2\":\"[14G]\", },\n",
    "    \"steel_com_11g_5x10\":{\"safety\":54, \"dimensions\":\"5' X 10'\", \"no_item\": \"11100638\", \"description1\": \"STEEL 0.120\\\"\", \"description2\":\"[11G]\", },\n",
    "    \"steel_com_10g_5x10\":{\"safety\":2, \"dimensions\":\"5' X 10'\", \"no_item\": \"11100578\", \"description1\": \"STEEL 10G\", \"description2\":\"[10G]\", },\n",
    "    \"steel_44w_0.187_5x10\":{\"safety\":34, \"dimensions\":\"5' X 10'\", \"no_item\": \"11100567\", \"description1\": \"STEEL 0.187\\\"\", \"description2\":\"[3/16G]\", },\n",
    "    \"steel_44w_0.250_5x10\":{\"safety\":39, \"dimensions\":\"5' X 10'\", \"no_item\": \"11100400\", \"description1\": \"STEEL 0.250\\\"\", \"description2\":\"[1/4]\", },\n",
    "    \"steel_44w_0.312_5x10\":{\"safety\":4, \"dimensions\":\"5' X 10'\", \"no_item\": \"11100379\", \"description1\": \"STEEL 0.312\\\"\", \"description2\":\"[5/16]\", }, #STEEL_44W_0.312_5X10\n",
    "    \"steel_44w_0.375_5x10\":{\"safety\":8, \"dimensions\":\"5' X 10'\", \"no_item\": \"11100282\", \"description1\": \"STEEL 0.375\\\"\", \"description2\":\"[3/8]\", },\n",
    "    \"steel_44w_0.500_5x10\":{\"safety\":6, \"dimensions\":\"5' X 10'\", \"no_item\": \"11100285\", \"description1\": \"STEEL 0.500\\\"\", \"description2\":\"[1/2]\", },\n",
    "    \"steel_44w_0.625_5x10\":{\"safety\":2, \"dimensions\":\"5' X 10'\", \"no_item\": \"11100075\", \"description1\": \"STEEL 0.625\\\"\", \"description2\":\"[5/8]\", \"pal\":\"116\"},\n",
    "    \"steel_44w_0.750_5x10\":{\"safety\":2, \"dimensions\":\"5' X 10'\", \"no_item\": \"11100269\", \"description1\": \"STEEL 0.750\\\"\", \"description2\":\"[3/4]\", },\n",
    "    \"steel_44w_1.000_4x8\":{\"safety\":0, \"dimensions\":\"4' X 8'\", \"no_item\": \"11100284\", \"description1\": \"STEEL 1.000\\\"\", \"description2\":\"[1PO]\", },\n",
    "    \"steel_44w_1.000_4x10\":{\"safety\":2, \"dimensions\":\"4' X 10'\", \"no_item\": \"11100284\", \"description1\": \"STEEL 1.000\\\"\", \"description2\":\"[1PO]\", }, #STEEL_44W_1.000_4X10\n",
    "    \"steel_44w_1.000_5x10\":{\"safety\":2, \"dimensions\":\"5' X 10'\", \"no_item\": \"11100284\", \"description1\": \"STEEL 1.000\\\"\", \"description2\":\"[1PO]\", },\n",
    "    \"steel_flr_0.187_5x10\":{\"safety\":8, \"dimensions\":\"5' X 10'\", \"no_item\": \"11100580\", \"description1\": \"NON SLIP STEEL 0.187\\\"\", \"description2\":\"[3/16]\", },\n",
    "    \"steel_galv_11g_4x10\":{\"safety\":3, \"dimensions\":\"4' X 10'\", \"no_item\": \"11100525\", \"description1\": \"GALVANIZED STEEL 0.120\\\"\", \"description2\":\"[11G]\", },\n",
    "    \"ss_304_16g_5x10\":{\"safety\":5, \"dimensions\":\"5' X 10'\", \"no_item\": \"11600005\", \"description1\": \"SS 304 0.062\\\"\", \"description2\":\"[16G]\", },\n",
    "    \"ss_304_14g_5x10\":{\"safety\":5, \"dimensions\":\"5' X 10'\", \"no_item\": \"11600067\", \"description1\": \"SS 304 0.078\\\"\", \"description2\":\"[14G]\", },\n",
    "    \"ss_304_11g_5x10\":{\"safety\":15, \"dimensions\":\"5' X 10'\", \"no_item\": \"11600001\", \"description1\": \"SS 304 0.125\\\"\", \"description2\":\"[11G]\", },\n",
    "    \"ss_304_11g _no4_5x10\":{\"safety\":2, \"dimensions\":\"5' X 10'\", \"no_item\": \"171236\", \"description1\": \"SS 304 NO4 0.125\\\"\", \"description2\":\"[11G]\", },\n",
    "    \"ss_304_0.250_5x10\":{\"safety\":5, \"dimensions\":\"5' X 10'\", \"no_item\": \"11600028\", \"description1\": \"SS 304 0.250\\\"\", \"description2\":\"[1/4]\", },\n",
    "    \"ss_304_0.375_5x10\":{\"safety\":2, \"dimensions\":\"5' X 10'\", \"no_item\": \"11600029\", \"description1\": \"SS 304 0.375\\\"\", \"description2\":\"[3/8]\", },\n",
    "    \"ss_304_0.500_5x10\":{\"safety\":2, \"dimensions\":\"5' X 10'\", \"no_item\": \"11600039\", \"description1\": \"SS 304 0.500\\\"\", \"description2\":\"[1/2]\", },\n",
    "    \"ss_304_0.500_4x10\":{\"safety\":0, \"dimensions\":\"4' X 10'\", \"no_item\": \"11600039\", \"description1\": \"SS 304 0.500\\\"\", \"description2\":\"[1/2]\", },\n",
    "    \"ss 304 2b 0.187 5x10\":{\"safety\":5, \"dimensions\":\"5' X 10'\", \"no_item\": \"11600021\", \"description1\": \"SS 304 2B 0.187\\\"\", \"description2\":\"[3/16]\", },\n",
    "    \"ss_304_16g_no4_5x10\":{\"safety\":2, \"dimensions\":\"5' X 10'\", \"no_item\": \"171237\", \"description1\": \"SS 304 NO4 0.062\\\"\", \"description2\":\"[16G]\", },\n",
    "    \"ss_304_0.187_no4_5x10\":{\"safety\":2, \"dimensions\":\"5' X 10'\", \"no_item\": \"212826\", \"description1\": \"SS 304 NO4 0.187\\\"\", \"description2\":\"[3/16]\", },\n",
    "    \"ss_304_0.250_no4_5x10\":{\"safety\":2, \"dimensions\":\"5' X 10'\", \"no_item\": \"212827\", \"description1\": \"SS 304 NO4 0.250\\\"\", \"description2\":\"[1/4]\", },\n",
    "    \"ss_316_16g_4X8\":{\"safety\":0, \"dimensions\":\"4' X 8'\", \"no_item\": \"11600152\", \"description1\": \"SS 316 16G 0.0625\\\"\", \"description2\":\"[1/16]\", },\n",
    "}"
   ]
  },
  {
   "cell_type": "code",
   "execution_count": 5,
   "metadata": {},
   "outputs": [],
   "source": [
    "def Get_Dataframe(filename):\n",
    "    bestand = pd.read_fwf(filename, widths=widths, colspecs='infer', header= None, skiprows = skiprows)\n",
    "  \n",
    "    bestand.columns = columns_names\n",
    "    palettes = bestand[[\"identifier\",\"palette\"]]\n",
    "    identifiers = palettes[\"identifier\"].str.lower()\n",
    "    palettes[\"identifier\"] = identifiers\n",
    "\n",
    "    palettes = palettes.set_index(\"identifier\")\n",
    "    palettes = palettes[palettes.index.notnull()]\n",
    "    palettes[\"list\"] = palettes.groupby(palettes.index)[\"palette\"].unique()\n",
    "    palettes = palettes[\"list\"]\n",
    "    palettes = palettes.to_frame(name=None)\n",
    "\n",
    "    dict_palettes = palettes.to_dict(orient='dict')['list']\n",
    "\n",
    "    # convert to string the arrays in the dict.\n",
    "    pal_collections = {i: \"-\".join(j) for (i,j) in dict_palettes.items()}\n",
    "\n",
    "    bestand['quantity'] = bestand['quantity'].astype(float)\n",
    "    bestand['palette'] = bestand['palette'].astype(str)\n",
    "    bestand = (\n",
    "        bestand\n",
    "            [[\"identifier\",\"quantity\"]]\n",
    "            .groupby(['identifier'])['quantity'].agg(sum)\n",
    "            .to_frame(name=None) # change series in dataframe.\n",
    "    )\n",
    "\n",
    "    # change the dict to a dataframe.\n",
    "    cmf = pd.DataFrame.from_dict(data , orient='index', columns=['no_item','description1','description2','dimensions','safety'])\n",
    "   \n",
    "    # assign type to columns\n",
    "    cmf = cmf.astype({\"no_item\": str,\"description1\": str,\"description2\":str, \"dimensions\":str, \"safety\":int})\n",
    "    \n",
    "    # change indexes to lower case cmf and bestand.\n",
    "    cmf.index = cmf.index.str.lower()\n",
    "    bestand.index = bestand.index.str.lower()\n",
    "    bestand = bestand.join(cmf)\n",
    "\n",
    "    # substract difference.\n",
    "    bestand[\"order\"] = bestand[\"safety\"] - bestand[\"quantity\"]\n",
    "    \n",
    "    # calculate surfaces.\n",
    "    bestand[\"quantitypi2\"] = bestand[\"order\"] * 50\n",
    "    \n",
    "    # fill na values to zero.\n",
    "    bestand[[\"safety\",\"order\",\"quantitypi2\"]] = bestand[[\"safety\",\"order\",\"quantitypi2\"]].fillna(0)\n",
    "    \n",
    "    # Rename headers\n",
    "    bestand.columns = [\n",
    "        \"Quantity\",\n",
    "        \"Item number\",\n",
    "        \"Description 1\",\n",
    "        \"Description 2\",\n",
    "        \"Dimensions\",\n",
    "        \"Safety stock\",\n",
    "        \"To order\",\n",
    "        \"Surface (ft^2)\",\n",
    "    ]\n",
    "    \n",
    "    # convert number to int.\n",
    "    bestand = bestand.astype({\"Quantity\": int,\"Safety stock\": int,\"To order\":int, \"Surface (ft^2)\":int})\n",
    "    \n",
    "    # order headers.\n",
    "    bestand = bestand[[ 'Item number', 'Description 1', 'Description 2','Dimensions', 'Safety stock', 'Quantity','To order', 'Surface (ft^2)']]\n",
    "\n",
    "    # change negative values to zero.\n",
    "    surfaces = bestand[[\"Surface (ft^2)\"]].clip(lower=0)\n",
    "    bestand[\"Surface (ft^2)\"] = surfaces\n",
    "    orders = bestand[[\"To order\"]].clip(lower=0)\n",
    "    bestand[\"To order\"] = orders\n",
    "    bestand[\"Palette\"] = bestand.index.map(pal_collections)\n",
    "    bestand = bestand[[ 'Item number', 'Palette','Description 1', 'Description 2','Dimensions', 'Safety stock', 'Quantity','To order', 'Surface (ft^2)']]\n",
    "    bestand = bestand.sort_values(\"Palette\")\n",
    "    bestand = bestand.reset_index()\n",
    "    return bestand"
   ]
  },
  {
   "cell_type": "code",
   "execution_count": 6,
   "metadata": {},
   "outputs": [
    {
     "name": "stdout",
     "output_type": "stream",
     "text": [
      "File: BESTAND.DAT found\n",
      "Generating speadsheet...\n",
      "File created: BESTAND_2021_07_15(142008).xlsx\n"
     ]
    }
   ],
   "source": [
    "file = pathlib.Path(\"BESTAND.DAT\")\n",
    "if file.exists():\n",
    "    print (\"File: BESTAND.DAT found\")\n",
    "    print (\"Generating speadsheet...\")\n",
    "    bestand = Get_Dataframe(\"BESTAND.DAT\")\n",
    "    bestand\n",
    "    now = datetime.now().strftime(\"%Y_%m_%d(%H%M%S)\")\n",
    "    filename = \"BESTAND_\" + now + \".xlsx\"\n",
    "    bestand.to_excel(filename, index=False)\n",
    "    print(f\"File created: {filename}\")\n",
    "else:\n",
    "    print (\"File: BESTAND.DAT was not found. Please provide the file before running the macro.\")"
   ]
  },
  {
   "cell_type": "code",
   "execution_count": 7,
   "metadata": {},
   "outputs": [
    {
     "name": "stdout",
     "output_type": "stream",
     "text": [
      "press any keys to exit.\n",
      "a\n"
     ]
    },
    {
     "data": {
      "text/plain": [
       "'a'"
      ]
     },
     "execution_count": 7,
     "metadata": {},
     "output_type": "execute_result"
    }
   ],
   "source": [
    "print(\"press any keys to exit.\")\n",
    "input()"
   ]
  }
 ],
 "metadata": {
  "kernelspec": {
   "display_name": "Python 3",
   "language": "python",
   "name": "python3"
  },
  "language_info": {
   "codemirror_mode": {
    "name": "ipython",
    "version": 3
   },
   "file_extension": ".py",
   "mimetype": "text/x-python",
   "name": "python",
   "nbconvert_exporter": "python",
   "pygments_lexer": "ipython3",
   "version": "3.8.10"
  }
 },
 "nbformat": 4,
 "nbformat_minor": 2
}
